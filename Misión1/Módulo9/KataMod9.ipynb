{
 "cells": [
  {
   "cell_type": "markdown",
   "metadata": {},
   "source": [
    "# Kata del módulo 9"
   ]
  },
  {
   "cell_type": "markdown",
   "metadata": {},
   "source": [
    "## Ejercicio 1: Argumentos en funciones"
   ]
  },
  {
   "cell_type": "code",
   "execution_count": null,
   "metadata": {},
   "outputs": [],
   "source": [
    "def average(*args):\n",
    "  total = 0\n",
    "  for num in args:\n",
    "    total += num\n",
    "  return total / len(args)\n",
    "\n",
    "def fuelInfo(tank1, tank2, tank3):\n",
    "  return f'Fuel average: { average(tank1, tank2, tank3) }'\n",
    "\n",
    "print(f'Fuel information: { fuelInfo(24, 52, 11) }')"
   ]
  },
  {
   "cell_type": "markdown",
   "metadata": {},
   "source": [
    "## Ejercicio 2: Argumentos de palabra clave"
   ]
  },
  {
   "cell_type": "code",
   "execution_count": 4,
   "metadata": {},
   "outputs": [
    {
     "name": "stdout",
     "output_type": "stream",
     "text": [
      "Destino: Luna\n",
      "Total de minutos: 105\n",
      "Interno: 1560 galones\n",
      "Externo: 2432 galones\n"
     ]
    }
   ],
   "source": [
    "def misionReport(destino, *minutos, **tanques):\n",
    "  mensaje = f\"Destino: {destino}\\nTotal de minutos: {sum(minutos)}\"\n",
    "  for tanque in tanques:\n",
    "    mensaje += f\"\\n{tanque}: {tanques[tanque]} galones\"\n",
    "  return mensaje\n",
    "\n",
    "print(misionReport('Luna', 12, 45, 12, 36, Interno=1560, Externo=2432))"
   ]
  }
 ],
 "metadata": {
  "interpreter": {
   "hash": "31f2aee4e71d21fbe5cf8b01ff0e069b9275f58929596ceb00d14d90e3e16cd6"
  },
  "kernelspec": {
   "display_name": "Python 3.8.10 64-bit",
   "language": "python",
   "name": "python3"
  },
  "language_info": {
   "codemirror_mode": {
    "name": "ipython",
    "version": 3
   },
   "file_extension": ".py",
   "mimetype": "text/x-python",
   "name": "python",
   "nbconvert_exporter": "python",
   "pygments_lexer": "ipython3",
   "version": "3.8.10"
  },
  "orig_nbformat": 4
 },
 "nbformat": 4,
 "nbformat_minor": 2
}
