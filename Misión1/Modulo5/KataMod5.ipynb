{
 "cells": [
  {
   "cell_type": "markdown",
   "metadata": {},
   "source": [
    "# Kata del módulo 5\n",
    "## "
   ]
  },
  {
   "cell_type": "markdown",
   "metadata": {},
   "source": [
    "## Ejercicio 1"
   ]
  },
  {
   "cell_type": "code",
   "execution_count": null,
   "metadata": {},
   "outputs": [],
   "source": [
    "a = 149597870 #km Tierra\n",
    "b = 778547200 #km Júpiter\n",
    "\n",
    "distancia = abs(a - b) * 1.609344 # millas\n",
    "print('La distancia entre el planeta {a1} y el planeta {b1} es: {dist} millas'.format(a1=\"Tierra\", b1=\"Júpiter\", dist=distancia))"
   ]
  },
  {
   "cell_type": "markdown",
   "metadata": {},
   "source": [
    "## Ejercicio 2"
   ]
  },
  {
   "cell_type": "code",
   "execution_count": 5,
   "metadata": {},
   "outputs": [
    {
     "name": "stdout",
     "output_type": "stream",
     "text": [
      "Distancia en Km:10\n",
      "Distancia en Millas:6.21\n"
     ]
    }
   ],
   "source": [
    "distA = int(input('Ingresa la distancia del planeta A:'))\n",
    "distB = int(input('Ingresa la distancia del planeta B:'))\n",
    "\n",
    "distancia = abs(distA - distB)\n",
    "\n",
    "print(f\"Distancia en Km: {distancia}\")\n",
    "print(f\"Distancia en Millas: {distancia * 0.621}\")"
   ]
  },
  {
   "cell_type": "markdown",
   "metadata": {},
   "source": []
  }
 ],
 "metadata": {
  "interpreter": {
   "hash": "31f2aee4e71d21fbe5cf8b01ff0e069b9275f58929596ceb00d14d90e3e16cd6"
  },
  "kernelspec": {
   "display_name": "Python 3.8.10 64-bit",
   "language": "python",
   "name": "python3"
  },
  "language_info": {
   "codemirror_mode": {
    "name": "ipython",
    "version": 3
   },
   "file_extension": ".py",
   "mimetype": "text/x-python",
   "name": "python",
   "nbconvert_exporter": "python",
   "pygments_lexer": "ipython3",
   "version": "3.8.10"
  },
  "orig_nbformat": 4
 },
 "nbformat": 4,
 "nbformat_minor": 2
}
