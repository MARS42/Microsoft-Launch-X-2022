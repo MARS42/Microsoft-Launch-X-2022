{
 "cells": [
  {
   "cell_type": "markdown",
   "metadata": {},
   "source": [
    "# Kata del módulo 3"
   ]
  },
  {
   "cell_type": "markdown",
   "metadata": {},
   "source": [
    "## Ejercicio asteroide"
   ]
  },
  {
   "cell_type": "code",
   "execution_count": null,
   "metadata": {},
   "outputs": [],
   "source": [
    "#variable float\n",
    "velocidad = 49 #km/s\n",
    "\n",
    "#variable bool\n",
    "notificar = velocidad > 25\n",
    "\n",
    "if notificar:\n",
    "  print(\"¡Un asteroide se acerca demasiado rápido a la Tierra!\")\n",
    "else:\n",
    "  print(\"No hay ningún alerta\")"
   ]
  },
  {
   "cell_type": "markdown",
   "metadata": {},
   "source": [
    "## Ejercicio 2"
   ]
  },
  {
   "cell_type": "code",
   "execution_count": null,
   "metadata": {},
   "outputs": [],
   "source": [
    "#variable float\n",
    "velocidad = 19 #km/s\n",
    "\n",
    "#variable bool\n",
    "verRayo = velocidad > 20 or velocidad == 20\n",
    "\n",
    "if verRayo:\n",
    "  print(\"¡Hay un destello en el cielo!\")\n",
    "else:\n",
    "  print(\"No hay peligro\")"
   ]
  },
  {
   "cell_type": "markdown",
   "metadata": {},
   "source": [
    "## Ejercicio 3"
   ]
  },
  {
   "cell_type": "code",
   "execution_count": null,
   "metadata": {},
   "outputs": [],
   "source": [
    "dimension = 25 #m\n",
    "velocidad = 49 #km/s\n",
    "\n",
    "peligro = velocidad > 25\n",
    "seDesintegra = dimension <= 25\n",
    "\n",
    "if peligro and not seDesintegra:\n",
    "  print(\"¡Alerta, un gran asteroide se acerca un alta velocidad!\")\n",
    "elif peligro:\n",
    "  print(\"¡Un asteroide está provando un rayo de luz!\")\n",
    "elif seDesintegra:\n",
    "  print(\"El asteroide es tan pequeño que se destruirá en la atmósfera\")\n",
    "else:\n",
    "  print(\"No existe ningún tipo de peligro\")"
   ]
  }
 ],
 "metadata": {
  "interpreter": {
   "hash": "31f2aee4e71d21fbe5cf8b01ff0e069b9275f58929596ceb00d14d90e3e16cd6"
  },
  "kernelspec": {
   "display_name": "Python 3.8.10 64-bit",
   "language": "python",
   "name": "python3"
  },
  "language_info": {
   "codemirror_mode": {
    "name": "ipython",
    "version": 3
   },
   "file_extension": ".py",
   "mimetype": "text/x-python",
   "name": "python",
   "nbconvert_exporter": "python",
   "pygments_lexer": "ipython3",
   "version": "3.8.10"
  },
  "orig_nbformat": 4
 },
 "nbformat": 4,
 "nbformat_minor": 2
}
