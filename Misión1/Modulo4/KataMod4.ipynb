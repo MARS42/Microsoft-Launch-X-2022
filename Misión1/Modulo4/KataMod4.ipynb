{
 "cells": [
  {
   "cell_type": "markdown",
   "metadata": {},
   "source": [
    "# Kata del módulo 4"
   ]
  },
  {
   "cell_type": "markdown",
   "metadata": {},
   "source": [
    "## Ejercicio 1"
   ]
  },
  {
   "cell_type": "code",
   "execution_count": null,
   "metadata": {},
   "outputs": [],
   "source": [
    "text = \"\"\"Interesting facts about the Moon. The Moon is Earth's only satellite. There are several interesting facts about the Moon and how it affects life here on Earth. \n",
    "On average, the Moon moves 4cm away from the Earth every year. This yearly drift is not significant enough to cause immediate effects on Earth. The highest daylight temperature of the Moon is 127 C.\"\"\"\n",
    "\n",
    "oraciones = text.split(\". \")\n",
    "\n",
    "claves = ['average', 'temperature', 'distance']\n",
    "\n",
    "for oracion in oraciones:\n",
    "  for clave in claves:\n",
    "    if clave in oracion.lower():\n",
    "      print(f'La oración: \"{oracion}\" habla de {clave}')\n",
    "\n",
    "print(\"Cambiar C a Celsius\")\n",
    "for oracion in oraciones:\n",
    "  if 'C' in oracion:\n",
    "    fix = oracion.replace('C', 'Celsius')\n",
    "    print(f'\"{oracion}\" = { fix }')"
   ]
  },
  {
   "cell_type": "markdown",
   "metadata": {},
   "source": [
    "## Ejercicio 2"
   ]
  },
  {
   "cell_type": "code",
   "execution_count": 8,
   "metadata": {},
   "outputs": [
    {
     "name": "stdout",
     "output_type": "stream",
     "text": [
      "Datos gravitarios de Moon\n",
      " Nombre: Earth\n",
      " Gravedad en Moon: 0.00162 km/s2\n"
     ]
    }
   ],
   "source": [
    "nombre = 'Moon'\n",
    "gravedad  = 0.00162\n",
    "planeta = 'Earth'\n",
    "\n",
    "titulo = f'Datos gravitarios de { nombre.title() }'\n",
    "info = f\"\\n Nombre: {planeta.title()}\\n Gravedad en {nombre.title()}: {gravedad } km/s2\"\n",
    "\n",
    "print(titulo + info)"
   ]
  }
 ],
 "metadata": {
  "interpreter": {
   "hash": "31f2aee4e71d21fbe5cf8b01ff0e069b9275f58929596ceb00d14d90e3e16cd6"
  },
  "kernelspec": {
   "display_name": "Python 3.8.10 64-bit",
   "language": "python",
   "name": "python3"
  },
  "language_info": {
   "codemirror_mode": {
    "name": "ipython",
    "version": 3
   },
   "file_extension": ".py",
   "mimetype": "text/x-python",
   "name": "python",
   "nbconvert_exporter": "python",
   "pygments_lexer": "ipython3",
   "version": "3.8.10"
  },
  "orig_nbformat": 4
 },
 "nbformat": 4,
 "nbformat_minor": 2
}
